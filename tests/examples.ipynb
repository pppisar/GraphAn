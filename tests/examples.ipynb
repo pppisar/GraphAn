{
 "cells": [
  {
   "cell_type": "markdown",
   "id": "93c37939",
   "metadata": {},
   "source": [
    "# Examples of program work"
   ]
  },
  {
   "cell_type": "markdown",
   "id": "cdcd7fdb",
   "metadata": {},
   "source": [
    "## Import the necessary classes and libraries"
   ]
  },
  {
   "cell_type": "code",
   "execution_count": 1,
   "id": "18b65a6c",
   "metadata": {},
   "outputs": [],
   "source": [
    "import sys\n",
    "sys.path.append('../')\n",
    "\n",
    "from GraphAn import Graph, Analysis"
   ]
  },
  {
   "cell_type": "markdown",
   "id": "95961639",
   "metadata": {},
   "source": [
    "### Function for displaying found substitutions"
   ]
  },
  {
   "cell_type": "code",
   "execution_count": 2,
   "id": "32188965",
   "metadata": {},
   "outputs": [],
   "source": [
    "def display(result: list) -> None:\n",
    "    if len(result) == 0:\n",
    "        print(\"No substitutions were found\")\n",
    "    else:\n",
    "        print(\"Found substitutions:\")\n",
    "        for substitutions in result:\n",
    "            for index, substitution in enumerate(substitutions):\n",
    "                print(f\"Substitutin {index + 1}:\")\n",
    "                print('\\t'.join(substitution.keys()))\n",
    "                print('\\t'.join(substitution.values()) + '\\n')"
   ]
  },
  {
   "cell_type": "markdown",
   "id": "f9a142df",
   "metadata": {},
   "source": [
    "## Graphs are isomorphically embedded"
   ]
  },
  {
   "cell_type": "code",
   "execution_count": 3,
   "id": "bfa8b67f",
   "metadata": {},
   "outputs": [],
   "source": [
    "graphs1 = {\n",
    "    \"GAL1\": {'y1': ['y6', 'y8', 'y4', 'y2'], 'y2': ['y6'], 'y3': ['y1', 'y2', 'y6', 'y5', 'y3', 'y4'],\n",
    "             'y4': ['y6', 'y8', 'y2', 'y1', 'y5'], 'y5': ['y8'], 'y6': ['y3', 'y7', 'y5', 'y4'],\n",
    "             'y7': ['y3', 'y8', 'y2'], 'y8': ['y6', 'y8', 'y2']},\n",
    "    \"GAL2\": {'x1': ['x4', 'x2'], 'x2': ['x5'], 'x3': ['x1', 'x5', 'x3', 'x4'], 'x4': ['x5', 'x1'], 'x5': ['x4']}\n",
    "}"
   ]
  },
  {
   "cell_type": "code",
   "execution_count": 4,
   "id": "b3a241d1",
   "metadata": {},
   "outputs": [
    {
     "name": "stdout",
     "output_type": "stream",
     "text": [
      "Creating a report...\n",
      "The report has been created!\n",
      "Found substitutions:\n",
      "Substitutin 1:\n",
      "x3\tx1\tx4\tx5\tx2\n",
      "y3\ty1\ty4\ty6\ty2\n",
      "\n",
      "Substitutin 2:\n",
      "x3\tx1\tx4\tx5\tx2\n",
      "y3\ty1\ty4\ty6\ty8\n",
      "\n",
      "Execution time:0.012004375457763672\n"
     ]
    }
   ],
   "source": [
    "analysis1 = Analysis(Graph(graphs1[\"GAL2\"], \"G\", \"X\", \"F\"),\n",
    "                     Graph(graphs1[\"GAL1\"], \"H\", \"Y\", \"P\"),\n",
    "                     \"reports/test1.pdf\")\n",
    "analysis1.makeAnalysis()\n",
    "display(analysis1.completeSubs)\n",
    "print(f\"Execution time:{analysis1.analysisTime}\")"
   ]
  },
  {
   "cell_type": "markdown",
   "id": "24a2ff02",
   "metadata": {},
   "source": [
    "## Graphs are not isomorphically embedded"
   ]
  },
  {
   "cell_type": "code",
   "execution_count": 5,
   "id": "c5d10f99",
   "metadata": {},
   "outputs": [],
   "source": [
    "graphs2 = {\n",
    "  \"GAL1\": {'y1': ['y2', 'y7', 'y4'], 'y2': ['y3', 'y5'], 'y3': ['y7', 'y5', 'y6', 'y2'], 'y4': ['y6', 'y8'], 'y5': ['y8'], 'y6': ['y4', 'y1', 'y5', 'y8'], 'y7': ['y2', 'y8'], 'y8': ['y5', 'y6', 'y3']},\n",
    "  \"GAL2\": {'x1': ['x3', 'x5', 'x2'], 'x2': ['x4'], 'x3': ['x4', 'x5'], 'x4': ['x3', 'x1', 'x5'], 'x5': ['x4', 'x2']}\n",
    "}"
   ]
  },
  {
   "cell_type": "code",
   "execution_count": 6,
   "id": "ff94facc",
   "metadata": {},
   "outputs": [
    {
     "name": "stdout",
     "output_type": "stream",
     "text": [
      "Creating a report...\n",
      "The report has been created!\n",
      "No substitutions were found\n",
      "Execution time:0.03854703903198242\n"
     ]
    }
   ],
   "source": [
    "analysis2 = Analysis(Graph(graphs2[\"GAL1\"], \"G\", \"X\", \"F\"),\n",
    "                     Graph(graphs2[\"GAL2\"], \"H\", \"Y\", \"P\"),\n",
    "                     \"reports/test2.pdf\")\n",
    "analysis2.makeAnalysis()\n",
    "display(analysis2.completeSubs)\n",
    "print(f\"Execution time:{analysis2.analysisTime}\")"
   ]
  },
  {
   "cell_type": "markdown",
   "id": "bdc199f8",
   "metadata": {},
   "source": [
    "## Graphs are isomorphic"
   ]
  },
  {
   "cell_type": "code",
   "execution_count": 7,
   "id": "e5b5ebd3",
   "metadata": {},
   "outputs": [],
   "source": [
    "graphs3 = {\n",
    "  \"GAL1\": {'y1': ['y1'], 'y2': [], 'y3': ['y20', 'y11', 'y3', 'y6', 'y5', 'y2', 'y15', 'y8', 'y18', 'y10', 'y4'],\n",
    "           'y4': ['y12', 'y19', 'y5', 'y3', 'y8', 'y6', 'y7', 'y17', 'y14', 'y10', 'y18'],\n",
    "           'y5': ['y12', 'y11', 'y5', 'y7', 'y10', 'y16', 'y14', 'y17'], 'y6': ['y1', 'y12'],\n",
    "           'y7': ['y6', 'y10', 'y1'], 'y8': ['y15', 'y5', 'y3', 'y11', 'y17', 'y1', 'y16', 'y7', 'y18'], 'y9': [],\n",
    "           'y10': ['y7', 'y15', 'y14', 'y10', 'y6', 'y4'],\n",
    "           'y11': ['y2', 'y5', 'y6', 'y20', 'y7', 'y18', 'y8', 'y15', 'y16', 'y4'], 'y12': ['y8'],\n",
    "           'y13': ['y4', 'y20', 'y8', 'y3', 'y14'], 'y14': ['y13', 'y16'],\n",
    "           'y15': ['y12', 'y7', 'y2', 'y16', 'y14', 'y5', 'y11', 'y17', 'y18', 'y1', 'y8', 'y19'],\n",
    "           'y16': ['y13', 'y6', 'y14', 'y16', 'y19', 'y11', 'y12', 'y15', 'y20', 'y5'],\n",
    "           'y17': ['y13', 'y12', 'y10', 'y11'],\n",
    "           'y18': ['y19', 'y16', 'y6', 'y5', 'y1', 'y10', 'y3', 'y7', 'y2', 'y4', 'y17', 'y11'],\n",
    "           'y19': ['y18', 'y2', 'y10', 'y20', 'y5', 'y19', 'y6', 'y3'], 'y20': ['y9', 'y10']},\n",
    "  \"GAL2\": {'x1': ['x1'], 'x2': [], 'x3': ['x20', 'x11', 'x3', 'x6', 'x5', 'x2', 'x15', 'x8', 'x18', 'x10', 'x4'],\n",
    "           'x4': ['x12', 'x19', 'x5', 'x3', 'x8', 'x6', 'x7', 'x17', 'x14', 'x10', 'x18'],\n",
    "           'x5': ['x12', 'x11', 'x5', 'x7', 'x10', 'x16', 'x14', 'x17'], 'x6': ['x1', 'x12'],\n",
    "           'x7': ['x6', 'x10', 'x1'], 'x8': ['x15', 'x5', 'x3', 'x11', 'x17', 'x1', 'x16', 'x7', 'x18'], 'x9': [],\n",
    "           'x10': ['x7', 'x15', 'x14', 'x10', 'x6', 'x4'],\n",
    "           'x11': ['x2', 'x5', 'x6', 'x20', 'x7', 'x18', 'x8', 'x15', 'x16', 'x4'], 'x12': ['x8'],\n",
    "           'x13': ['x4', 'x20', 'x8', 'x3', 'x14'], 'x14': ['x13', 'x16'],\n",
    "           'x15': ['x12', 'x7', 'x2', 'x16', 'x14', 'x5', 'x11', 'x17', 'x18', 'x1', 'x8', 'x19'],\n",
    "           'x16': ['x13', 'x6', 'x14', 'x16', 'x19', 'x11', 'x12', 'x15', 'x20', 'x5'],\n",
    "           'x17': ['x13', 'x12', 'x10', 'x11'],\n",
    "           'x18': ['x19', 'x16', 'x6', 'x5', 'x1', 'x10', 'x3', 'x7', 'x2', 'x4', 'x17', 'x11'],\n",
    "           'x19': ['x18', 'x2', 'x10', 'x20', 'x5', 'x19', 'x6', 'x3'], 'x20': ['x9', 'x10']}\n",
    "}"
   ]
  },
  {
   "cell_type": "code",
   "execution_count": 8,
   "id": "2559e924",
   "metadata": {},
   "outputs": [
    {
     "name": "stdout",
     "output_type": "stream",
     "text": [
      "Creating a report...\n",
      "The report has been created!\n",
      "Found substitutions:\n",
      "Substitutin 1:\n",
      "y15\ty1\ty2\ty5\ty7\ty8\ty11\ty12\ty14\ty16\ty17\ty18\ty19\ty3\ty4\ty6\ty9\ty10\ty13\ty20\n",
      "x15\tx1\tx2\tx5\tx7\tx8\tx11\tx12\tx14\tx16\tx17\tx18\tx19\tx3\tx4\tx6\tx9\tx10\tx13\tx20\n",
      "\n",
      "Substitutin 2:\n",
      "y18\ty1\ty2\ty3\ty4\ty5\ty6\ty7\ty10\ty11\ty16\ty17\ty19\ty8\ty9\ty12\ty13\ty14\ty15\ty20\n",
      "x18\tx1\tx2\tx3\tx4\tx5\tx6\tx7\tx10\tx11\tx16\tx17\tx19\tx8\tx9\tx12\tx13\tx14\tx15\tx20\n",
      "\n",
      "Substitutin 1:\n",
      "x15\tx1\tx2\tx5\tx7\tx8\tx11\tx12\tx14\tx16\tx17\tx18\tx19\tx3\tx4\tx6\tx9\tx10\tx13\tx20\n",
      "y15\ty1\ty2\ty5\ty7\ty8\ty11\ty12\ty14\ty16\ty17\ty18\ty19\ty3\ty4\ty6\ty9\ty10\ty13\ty20\n",
      "\n",
      "Substitutin 2:\n",
      "x18\tx1\tx2\tx3\tx4\tx5\tx6\tx7\tx10\tx11\tx16\tx17\tx19\tx8\tx9\tx12\tx13\tx14\tx15\tx20\n",
      "y18\ty1\ty2\ty3\ty4\ty5\ty6\ty7\ty10\ty11\ty16\ty17\ty19\ty8\ty9\ty12\ty13\ty14\ty15\ty20\n",
      "\n",
      "Execution time:0.6812326908111572\n"
     ]
    }
   ],
   "source": [
    "analysis3 = Analysis(Graph(graphs3[\"GAL1\"], \"G\", \"X\", \"F\"),\n",
    "                     Graph(graphs3[\"GAL2\"], \"H\", \"Y\", \"P\"),\n",
    "                     \"reports/test3.pdf\")\n",
    "analysis3.makeAnalysis()\n",
    "display(analysis3.completeSubs)\n",
    "print(f\"Execution time:{analysis3.analysisTime}\")"
   ]
  }
 ],
 "metadata": {
  "kernelspec": {
   "display_name": "Python 3 (ipykernel)",
   "language": "python",
   "name": "python3"
  },
  "language_info": {
   "codemirror_mode": {
    "name": "ipython",
    "version": 3
   },
   "file_extension": ".py",
   "mimetype": "text/x-python",
   "name": "python",
   "nbconvert_exporter": "python",
   "pygments_lexer": "ipython3",
   "version": "3.10.9"
  }
 },
 "nbformat": 4,
 "nbformat_minor": 5
}
