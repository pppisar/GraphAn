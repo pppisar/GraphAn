{
 "cells": [
  {
   "cell_type": "markdown",
   "id": "93c37939",
   "metadata": {},
   "source": [
    "# Examples of program work"
   ]
  },
  {
   "cell_type": "markdown",
   "id": "cdcd7fdb",
   "metadata": {},
   "source": [
    "## Import the necessary classes and libraries"
   ]
  },
  {
   "cell_type": "code",
   "execution_count": 1,
   "id": "18b65a6c",
   "metadata": {},
   "outputs": [],
   "source": [
    "import sys\n",
    "sys.path.append('../')\n",
    "\n",
    "from GraphAn import Graph, Analysis"
   ]
  },
  {
   "cell_type": "markdown",
   "id": "95961639",
   "metadata": {},
   "source": [
    "### Function for displaying found substitutions"
   ]
  },
  {
   "cell_type": "code",
   "execution_count": 12,
   "id": "32188965",
   "metadata": {},
   "outputs": [],
   "source": [
    "def display(substitutions: list) -> None:\n",
    "    if len(substitutions) == 0:\n",
    "        print(\"No substitutions were found\")\n",
    "    else:\n",
    "        print(\"Found substitutions:\")\n",
    "        for index, substitution in enumerate(substitutions):\n",
    "            print(f\"Substitutin {index + 1}:\")\n",
    "            print('\\t'.join(substitution.keys()))\n",
    "            print('\\t'.join(substitution.values()) + '\\n')"
   ]
  },
  {
   "cell_type": "markdown",
   "id": "f9a142df",
   "metadata": {},
   "source": [
    "## Graphs are isomorphically embedded"
   ]
  },
  {
   "cell_type": "code",
   "execution_count": 8,
   "id": "bfa8b67f",
   "metadata": {},
   "outputs": [],
   "source": [
    "graphs1 = {\n",
    "    \"GAL1\": {'y1': ['y6', 'y8', 'y4', 'y2'], 'y2': ['y6'], 'y3': ['y1', 'y2', 'y6', 'y5', 'y3', 'y4'],\n",
    "             'y4': ['y6', 'y8', 'y2', 'y1', 'y5'], 'y5': ['y8'], 'y6': ['y3', 'y7', 'y5', 'y4'],\n",
    "             'y7': ['y3', 'y8', 'y2'], 'y8': ['y6', 'y8', 'y2']},\n",
    "    \"GAL2\": {'x1': ['x4', 'x2'], 'x2': ['x5'], 'x3': ['x1', 'x5', 'x3', 'x4'], 'x4': ['x5', 'x1'], 'x5': ['x4']}\n",
    "}"
   ]
  },
  {
   "cell_type": "code",
   "execution_count": 13,
   "id": "b3a241d1",
   "metadata": {},
   "outputs": [
    {
     "name": "stdout",
     "output_type": "stream",
     "text": [
      "Found substitutions:\n",
      "Substitutin 1:\n",
      "x3\tx1\tx4\tx5\tx2\n",
      "y3\ty1\ty4\ty6\ty2\n",
      "\n",
      "Substitutin 2:\n",
      "x3\tx1\tx4\tx5\tx2\n",
      "y3\ty1\ty4\ty6\ty8\n",
      "\n"
     ]
    }
   ],
   "source": [
    "analysis1 = Analysis(Graph(graphs1[\"GAL1\"], \"G\", \"X\", \"F\"),\n",
    "                     Graph(graphs1[\"GAL2\"], \"H\", \"Y\", \"P\"))\n",
    "analysis1.makeAnalysis()\n",
    "display(analysis1.completeSubs)"
   ]
  },
  {
   "cell_type": "code",
   "execution_count": null,
   "id": "c5d10f99",
   "metadata": {},
   "outputs": [],
   "source": []
  }
 ],
 "metadata": {
  "kernelspec": {
   "display_name": "Python 3 (ipykernel)",
   "language": "python",
   "name": "python3"
  },
  "language_info": {
   "codemirror_mode": {
    "name": "ipython",
    "version": 3
   },
   "file_extension": ".py",
   "mimetype": "text/x-python",
   "name": "python",
   "nbconvert_exporter": "python",
   "pygments_lexer": "ipython3",
   "version": "3.10.9"
  }
 },
 "nbformat": 4,
 "nbformat_minor": 5
}
